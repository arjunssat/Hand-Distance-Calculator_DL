{
 "cells": [
  {
   "cell_type": "code",
   "execution_count": 1,
   "metadata": {},
   "outputs": [],
   "source": [
    "import cv2"
   ]
  },
  {
   "cell_type": "code",
   "execution_count": 2,
   "metadata": {},
   "outputs": [],
   "source": [
    "cars_classifier = cv2.CascadeClassifier('D:\\Visualcode\\DL\\Vehicle detection\\cars.xml')"
   ]
  },
  {
   "cell_type": "code",
   "execution_count": 9,
   "metadata": {},
   "outputs": [],
   "source": [
    "camera = cv2.VideoCapture(r'D:\\Visualcode\\DL\\Vehicle detection\\Vehicles.mp4')\n",
    "count=0\n",
    "while (True):\n",
    "        ret, img = camera.read()\n",
    "        height, width = img.shape[0:2]\n",
    "        img[0:50, 0:width] = [0, 0, 255]\n",
    "        cv2.putText(img, 'CARS COUNT:', (10, 50),cv2.FONT_HERSHEY_SIMPLEX, 1.5, (255, 255, 255), 2)\n",
    "        cv2.line(img, (0, height-400), (width, height-400), (0, 255, 255), 2)\n",
    "        blur=cv2.blur(img, (3, 3))\n",
    "        gray=cv2.cvtColor(blur,cv2.COLOR_BGR2GRAY)\n",
    "\n",
    "        cars=cars_classifier.detectMultiScale(gray)\n",
    "\n",
    "        for (x,y,w,h) in cars:\n",
    "            carsCy=int(y+h/2)\n",
    "            linCy=height-400\n",
    "            if (carsCy<linCy+1 and carsCy>linCy-1):\n",
    "                count=count+1\n",
    "                cv2.line(img, (0, height-400),(width, height-400), (0, 0, 255), 5)\n",
    "\n",
    "            cv2.rectangle(img, (x, y), (x+w, y+h), (0, 255, 0), 2)\n",
    "            cv2.putText(img, 'Vehicle', (x, y-10),cv2.FONT_HERSHEY_SIMPLEX, 0.5, (0, 255, 0), 2)\n",
    "            cv2.putText(img, str(count), (500, 50),cv2.FONT_HERSHEY_SIMPLEX, 1.5, (255, 255, 255), 2)\n",
    "\n",
    "        cv2.imshow('Video', img)\n",
    "        key=cv2.waitKey(1)\n",
    "        if key==27:\n",
    "            break\n",
    "cv2.destroyAllWindows()\n",
    "camera.release()"
   ]
  }
 ],
 "metadata": {
  "kernelspec": {
   "display_name": "Python 3",
   "language": "python",
   "name": "python3"
  },
  "language_info": {
   "codemirror_mode": {
    "name": "ipython",
    "version": 3
   },
   "file_extension": ".py",
   "mimetype": "text/x-python",
   "name": "python",
   "nbconvert_exporter": "python",
   "pygments_lexer": "ipython3",
   "version": "3.10.5"
  },
  "orig_nbformat": 4,
  "vscode": {
   "interpreter": {
    "hash": "63963b3f4c440940f0b94a3100916033a226cb4f45979123153792d60aa56d6a"
   }
  }
 },
 "nbformat": 4,
 "nbformat_minor": 2
}
